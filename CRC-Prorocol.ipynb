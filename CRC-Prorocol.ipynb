{
 "cells": [
  {
   "cell_type": "code",
   "execution_count": 12,
   "metadata": {},
   "outputs": [
    {
     "name": "stdout",
     "output_type": "stream",
     "text": [
      "error\n",
      "P(x) is 1101011010\n"
     ]
    }
   ],
   "source": [
    "\n",
    "\n",
    "#reference from Geeks from Geeks https://www.geeksforgeeks.org/cyclic-redundancy-check-python/\n",
    "def xor(a, b): \n",
    "   # initialize result \n",
    "    result = [] \n",
    "    for i in range(1, len(b)): \n",
    "        if a[i] == b[i]: \n",
    "            result.append('0') \n",
    "        else: \n",
    "            result.append('1') \n",
    "    return ''.join(result) \n",
    "\n",
    "def CRCRem(M,G): \n",
    "    Res=M;\n",
    "    counter1=len(G)-1\n",
    "\n",
    "    #no of times division takes place\n",
    "    intial=M[0 : len(G)] \n",
    "    lenXOR=len(G)\n",
    "    zeroes=\"\"\n",
    "    for i in range(counter1+1):\n",
    "        zeroes += \"0\"          \n",
    "    #print(zeroes)\n",
    "    for i in range(counter1):\n",
    "        M=M+'0'\n",
    "    counter2=len(M)-len(G)+1\n",
    "   \n",
    "    for i in range (counter2):\n",
    "        if(intial[0]=='1'):\n",
    "            intial=xor(intial , G) \n",
    "            if(lenXOR<len(M)):\n",
    "                intial=intial+M[lenXOR]\n",
    "        else: \n",
    "            intial=xor(zeroes,intial)\n",
    "            if(lenXOR<len(M)):\n",
    "                intial=intial+M[lenXOR]\n",
    "\n",
    "        lenXOR+=1\n",
    "    #returns P(x) = M(x) + R(x)\n",
    "    return Res+intial\n",
    "    \n",
    "    \n",
    "def errorcheck(P,G):\n",
    "    counter1=len(G)-1\n",
    "\n",
    "    #no of times division takes place\n",
    "    intial=P[0 : len(G)] \n",
    "    lenXOR=len(G)\n",
    "    zeroes=\"\"\n",
    "    for i in range(counter1+1):\n",
    "        zeroes += \"0\"          \n",
    "    counter2=len(P)-len(G)+1\n",
    "    for i in range (counter2):\n",
    "        if(intial[0]=='1'):\n",
    "            intial=xor(intial , G) \n",
    "            if(lenXOR<len(P)):\n",
    "                intial=intial+P[lenXOR]\n",
    "        else: \n",
    "            intial=xor(zeroes,intial)\n",
    "            if(lenXOR<len(P)):\n",
    "                intial=intial+P[lenXOR]\n",
    "\n",
    "        lenXOR+=1\n",
    "    if(intial.find('1')==-1):\n",
    "         return \"error free\";\n",
    "    else:\n",
    "        return \"error\";\n",
    "    \n",
    "result=errorcheck('1101011000','1101')\n",
    "print(result)\n",
    "\n",
    "result1=CRCRem('1101011','1101')\n",
    "print(\"P(x) is \" + result1)\n",
    "    \n",
    "    \n",
    "    \n",
    "    \n"
   ]
  },
  {
   "cell_type": "code",
   "execution_count": 13,
   "metadata": {},
   "outputs": [
    {
     "name": "stdout",
     "output_type": "stream",
     "text": [
      "Enter transmitted message P(x): 10110010000\n",
      "Enter reference polynomial G(x): 11001\n",
      "There is error in transmitted messge\n"
     ]
    }
   ],
   "source": [
    "#taking inputs from user and checking if the transmitted message has error\n",
    "P = input(\"Enter transmitted message P(x): \") \n",
    "G =input(\"Enter reference polynomial G(x): \")\n",
    "result=errorcheck(P,G)\n",
    "if(result==\"error\"):\n",
    "    print(\"There is error in transmitted messge\")\n",
    "else:\n",
    "    print(\"There is no error in transmitted message\")\n",
    "\n",
    "\n"
   ]
  },
  {
   "cell_type": "code",
   "execution_count": null,
   "metadata": {},
   "outputs": [],
   "source": []
  }
 ],
 "metadata": {
  "kernelspec": {
   "display_name": "Python 3",
   "language": "python",
   "name": "python3"
  },
  "language_info": {
   "codemirror_mode": {
    "name": "ipython",
    "version": 3
   },
   "file_extension": ".py",
   "mimetype": "text/x-python",
   "name": "python",
   "nbconvert_exporter": "python",
   "pygments_lexer": "ipython3",
   "version": "3.8.5"
  }
 },
 "nbformat": 4,
 "nbformat_minor": 4
}
